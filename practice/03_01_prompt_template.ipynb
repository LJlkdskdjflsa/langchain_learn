{
 "cells": [
  {
   "cell_type": "code",
   "execution_count": 4,
   "metadata": {},
   "outputs": [],
   "source": [
    "%load_ext dotenv\n",
    "%dotenv\n",
    "\n",
    "from langchain import OpenAI\n",
    "from langchain import PromptTemplate\n",
    "\n",
    "llm = OpenAI()"
   ]
  },
  {
   "cell_type": "code",
   "execution_count": 3,
   "metadata": {},
   "outputs": [
    {
     "data": {
      "text/plain": [
       "'給我講個故事'"
      ]
     },
     "execution_count": 3,
     "metadata": {},
     "output_type": "execute_result"
    }
   ],
   "source": [
    "from langchain import PromptTemplate\n",
    "\n",
    "# An example of a prompt template with no input variables\n",
    "pt = PromptTemplate(\n",
    "    input_variables=[],\n",
    "    template=\"給我講個故事\",\n",
    ")\n",
    "\n",
    "pt.format()"
   ]
  },
  {
   "cell_type": "code",
   "execution_count": 3,
   "metadata": {},
   "outputs": [
    {
     "data": {
      "text/plain": [
       "'給我講個關於魔法的故事'"
      ]
     },
     "execution_count": 3,
     "metadata": {},
     "output_type": "execute_result"
    }
   ],
   "source": [
    "# An example of a prompt template with one input variable\n",
    "pt = PromptTemplate(\n",
    "    input_variables=[\"name\"],\n",
    "    template=\"給我講個{name}的故事\",\n",
    ")\n",
    "\n",
    "pt.format(name=\"關於魔法\")"
   ]
  },
  {
   "cell_type": "code",
   "execution_count": 5,
   "metadata": {},
   "outputs": [
    {
     "data": {
      "text/plain": [
       "'給我講個關於魔法在魔法學校的故事'"
      ]
     },
     "execution_count": 5,
     "metadata": {},
     "output_type": "execute_result"
    }
   ],
   "source": [
    "# An example of a prompt template with two input variables\n",
    "\n",
    "pt = PromptTemplate(\n",
    "    input_variables=[\"name\", \"location\"],\n",
    "    template=\"給我講個{name}在{location}的故事\",\n",
    ")\n",
    "\n",
    "pt.format(name=\"關於魔法\", location=\"魔法學校\")"
   ]
  },
  {
   "cell_type": "code",
   "execution_count": null,
   "metadata": {},
   "outputs": [],
   "source": []
  }
 ],
 "metadata": {
  "kernelspec": {
   "display_name": ".venv",
   "language": "python",
   "name": "python3"
  },
  "language_info": {
   "codemirror_mode": {
    "name": "ipython",
    "version": 3
   },
   "file_extension": ".py",
   "mimetype": "text/x-python",
   "name": "python",
   "nbconvert_exporter": "python",
   "pygments_lexer": "ipython3",
   "version": "3.10.13"
  }
 },
 "nbformat": 4,
 "nbformat_minor": 2
}
