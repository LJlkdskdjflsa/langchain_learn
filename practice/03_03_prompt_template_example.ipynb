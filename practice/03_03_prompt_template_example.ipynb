{
 "cells": [
  {
   "cell_type": "code",
   "execution_count": 1,
   "metadata": {},
   "outputs": [],
   "source": [
    "%load_ext dotenv\n",
    "%dotenv\n",
    "\n",
    "from langchain import OpenAI\n",
    "from langchain import PromptTemplate\n",
    "from langchain.prompts.few_shot import FewShotPromptTemplate\n",
    "\n",
    "llm = OpenAI()"
   ]
  },
  {
   "cell_type": "code",
   "execution_count": 6,
   "metadata": {},
   "outputs": [
    {
     "name": "stdout",
     "output_type": "stream",
     "text": [
      "Question: 你好嗎？\n",
      "Answer: 帥哥，我很好\n",
      "\n",
      "\n",
      "Question: 今天禮拜幾？\n",
      "Answer: 帥哥，今天是禮拜五\n",
      "\n",
      "\n",
      "Question: 今天天氣如何？\n",
      "Answer: 帥哥，今天天氣晴朗\n",
      "\n",
      "\n",
      "Question: 我放了別人鴿子？\n"
     ]
    }
   ],
   "source": [
    "\n",
    "# 例子：\n",
    "\n",
    "# - \"你好嗎？\" -> \"帥哥，我很好\"\n",
    "# - \"今天禮拜幾？\" -> \"帥哥，今天是禮拜五\"\n",
    "# - \"今天天氣如何？\" -> \"帥哥，今天天氣晴朗\"\n",
    "# - \"我放了別人鴿子？\" -> ?\n",
    "\n",
    "# Ans: \"帥哥，你真狗\"\n",
    "\n",
    "examples = [\n",
    "    {\n",
    "        \"question\": \"你好嗎？\",\n",
    "        \"answer\": \"帥哥，我很好\"\n",
    "    },\n",
    "    {\n",
    "        \"question\": \"今天禮拜幾？\",\n",
    "        \"answer\": \"帥哥，今天是禮拜五\"\n",
    "    },\n",
    "    {\n",
    "        \"question\": \"今天天氣如何？\",\n",
    "        \"answer\": \"帥哥，今天天氣晴朗\"\n",
    "    }\n",
    "]\n",
    "\n",
    "example_prompt = PromptTemplate(\n",
    "    input_variables=[\"question\", \"answer\"],\n",
    "    template=\"Question: {question}\\nAnswer: {answer}\\n\",\n",
    ")\n",
    "\n",
    "prompt = FewShotPromptTemplate(\n",
    "    examples=examples,\n",
    "    example_prompt=example_prompt,\n",
    "    suffix=\"Question: {input}\",\n",
    "    input_variables=[\"input\"],\n",
    ")\n",
    "\n",
    "print(prompt.format(input=\"我放了別人鴿子？\"))"
   ]
  },
  {
   "cell_type": "code",
   "execution_count": 7,
   "metadata": {},
   "outputs": [
    {
     "data": {
      "text/plain": [
       "'\\nAnswer: 帥哥，你應該尊重別人的財產。你應該試著去彌補你的行為，並承擔責任。'"
      ]
     },
     "execution_count": 7,
     "metadata": {},
     "output_type": "execute_result"
    }
   ],
   "source": [
    "llm.predict(prompt.format(input=\"我放了別人鴿子？\"))"
   ]
  },
  {
   "cell_type": "code",
   "execution_count": null,
   "metadata": {},
   "outputs": [],
   "source": []
  },
  {
   "cell_type": "code",
   "execution_count": null,
   "metadata": {},
   "outputs": [],
   "source": []
  },
  {
   "cell_type": "code",
   "execution_count": null,
   "metadata": {},
   "outputs": [],
   "source": []
  }
 ],
 "metadata": {
  "kernelspec": {
   "display_name": ".venv",
   "language": "python",
   "name": "python3"
  },
  "language_info": {
   "codemirror_mode": {
    "name": "ipython",
    "version": 3
   },
   "file_extension": ".py",
   "mimetype": "text/x-python",
   "name": "python",
   "nbconvert_exporter": "python",
   "pygments_lexer": "ipython3",
   "version": "3.10.13"
  }
 },
 "nbformat": 4,
 "nbformat_minor": 2
}
