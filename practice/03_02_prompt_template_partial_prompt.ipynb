{
 "cells": [
  {
   "cell_type": "code",
   "execution_count": 2,
   "metadata": {},
   "outputs": [],
   "source": [
    "%load_ext dotenv\n",
    "%dotenv\n",
    "\n",
    "from langchain import OpenAI\n",
    "from langchain import PromptTemplate\n",
    "\n",
    "llm = OpenAI()"
   ]
  },
  {
   "cell_type": "code",
   "execution_count": 5,
   "metadata": {},
   "outputs": [
    {
     "name": "stdout",
     "output_type": "stream",
     "text": [
      "告訴我 台北 在 2021 1月1日 的溫度是多少？\n"
     ]
    }
   ],
   "source": [
    "# A example of partial prompt\n",
    "pt = PromptTemplate(\n",
    "    template=\"告訴我 {city} 在 {year} {date} 的溫度是多少？\",\n",
    "    input_variables=[\n",
    "        \"city\",\n",
    "        \"year\",\n",
    "        \"date\"\n",
    "    ],\n",
    ")\n",
    "\n",
    "# new prompt template\n",
    "partial_prompt = pt.partial(\n",
    "    city=\"台北\",\n",
    ")\n",
    "\n",
    "print(partial_prompt.format(\n",
    "    year=2021,\n",
    "    date=\"1月1日\"\n",
    ")\n",
    ")"
   ]
  },
  {
   "cell_type": "code",
   "execution_count": 13,
   "metadata": {},
   "outputs": [
    {
     "name": "stdout",
     "output_type": "stream",
     "text": [
      "告訴我 台北 在 2021 11月16日23時44分34秒 的溫度是多少？\n"
     ]
    }
   ],
   "source": [
    "# Another example of partial prompt with function\n",
    "\n",
    "from datetime import datetime\n",
    "\n",
    "\n",
    "def get_datetime():\n",
    "    now = datetime.now()\n",
    "    return now.strftime(\"%m月%d日%H時%M分%S秒\")\n",
    "\n",
    "pt = PromptTemplate(\n",
    "    template=\"告訴我 {city} 在 {year} {date} 的溫度是多少？\",\n",
    "    input_variables=[\n",
    "        \"city\",\n",
    "        \"year\",\n",
    "        \"date\"\n",
    "    ],\n",
    ")\n",
    "\n",
    "partial_prompt = pt.partial(\n",
    "    city=\"台北\",\n",
    "    date=get_datetime\n",
    ")\n",
    "\n",
    "print(partial_prompt.format(\n",
    "    year=2021,\n",
    ")\n",
    ")"
   ]
  },
  {
   "cell_type": "code",
   "execution_count": null,
   "metadata": {},
   "outputs": [],
   "source": []
  },
  {
   "cell_type": "code",
   "execution_count": null,
   "metadata": {},
   "outputs": [],
   "source": []
  },
  {
   "cell_type": "code",
   "execution_count": null,
   "metadata": {},
   "outputs": [],
   "source": []
  }
 ],
 "metadata": {
  "kernelspec": {
   "display_name": ".venv",
   "language": "python",
   "name": "python3"
  },
  "language_info": {
   "codemirror_mode": {
    "name": "ipython",
    "version": 3
   },
   "file_extension": ".py",
   "mimetype": "text/x-python",
   "name": "python",
   "nbconvert_exporter": "python",
   "pygments_lexer": "ipython3",
   "version": "3.10.13"
  }
 },
 "nbformat": 4,
 "nbformat_minor": 2
}
