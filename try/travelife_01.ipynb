{
 "cells": [
  {
   "cell_type": "code",
   "execution_count": 2,
   "metadata": {},
   "outputs": [],
   "source": [
    "from langchain.llms import OpenAI\n",
    "from langchain.prompts.chat import ChatPromptTemplate\n",
    "from langchain import PromptTemplate\n",
    "# 初始化 langchain\n",
    "llm = OpenAI()\n"
   ]
  },
  {
   "cell_type": "code",
   "execution_count": 6,
   "metadata": {},
   "outputs": [
    {
     "data": {
      "text/plain": [
       "'你是一個有經驗的旅行者，請根據以下需求，給我三個 50 字的旅遊行程簡介（使用繁體中文）\\n需求：我想去日本玩，但是不知道要怎麼玩\\n請幫我把行程簡介寫成為一個列表，每個行程簡介之間用「/」隔開\\n例子：\\n日本賞楓/日本賞櫻/日本賞雪\\n'"
      ]
     },
     "execution_count": 6,
     "metadata": {},
     "output_type": "execute_result"
    }
   ],
   "source": [
    "template = \"\"\"你是一個有經驗的旅行者，請根據以下需求，給我三個 50 字的旅遊行程簡介（使用繁體中文）\n",
    "需求：{requirement}\n",
    "請幫我把行程簡介寫成為一個列表，每個行程簡介之間用「/」隔開\n",
    "例子：\n",
    "日本賞楓/日本賞櫻/日本賞雪\n",
    "\"\"\"\n",
    "\n",
    "pt = PromptTemplate(\n",
    "    input_variables=[\"requirement\"],\n",
    "    template=template,\n",
    ")\n",
    "\n",
    "pt.format(requirement=\"我想去日本玩，但是不知道要怎麼玩\")\n"
   ]
  },
  {
   "cell_type": "code",
   "execution_count": 8,
   "metadata": {},
   "outputs": [
    {
     "data": {
      "text/plain": [
       "'\\n1. 日本之旅：體驗日本的精彩文化，探索古堡、寺院、茶室等歷史文化遺產，還可以品嘗地道的日式料理。/ \\n2. 登山旅行：登上日本的名山，欣賞壯觀的自然景觀，擁抱大自然的美景。/ \\n3. 渡假度假：在日本的溫泉區，放鬆身心，在溫泉中享受美好時光。'"
      ]
     },
     "execution_count": 8,
     "metadata": {},
     "output_type": "execute_result"
    }
   ],
   "source": [
    "llm.predict(pt.format(requirement=\"我想去日本玩，但是不知道要怎麼玩\"))"
   ]
  },
  {
   "cell_type": "code",
   "execution_count": 10,
   "metadata": {},
   "outputs": [
    {
     "name": "stdout",
     "output_type": "stream",
     "text": [
      "['1. 日本之旅：體驗日本的精彩文化，探索古堡、寺院、茶室等歷史文化遺產，還可以品嘗地道的日式料理。', '2. 登山旅行：登上日本的名山，欣賞壯觀的自然景觀，擁抱大自然的美景。', '3. 渡假度假：在日本的溫泉區，放鬆身心，在溫泉中享受美好時光。']\n"
     ]
    }
   ],
   "source": [
    "def format_itinerary_list(itinerary_str):\n",
    "    # 使用 '/' 分隔字符串\n",
    "    items = itinerary_str.split('/')\n",
    "\n",
    "    # 移除每個項目前後的空白字符\n",
    "    items = [item.strip() for item in items if item.strip()]\n",
    "\n",
    "    return items\n",
    "\n",
    "# 使用範例\n",
    "itinerary_str = \"\\n1. 日本之旅：體驗日本的精彩文化，探索古堡、寺院、茶室等歷史文化遺產，還可以品嘗地道的日式料理。/ \\n2. 登山旅行：登上日本的名山，欣賞壯觀的自然景觀，擁抱大自然的美景。/ \\n3. 渡假度假：在日本的溫泉區，放鬆身心，在溫泉中享受美好時光。\"\n",
    "formatted_list = format_itinerary_list(itinerary_str)\n",
    "print(formatted_list)\n"
   ]
  }
 ],
 "metadata": {
  "kernelspec": {
   "display_name": ".venv",
   "language": "python",
   "name": "python3"
  },
  "language_info": {
   "codemirror_mode": {
    "name": "ipython",
    "version": 3
   },
   "file_extension": ".py",
   "mimetype": "text/x-python",
   "name": "python",
   "nbconvert_exporter": "python",
   "pygments_lexer": "ipython3",
   "version": "3.10.13"
  }
 },
 "nbformat": 4,
 "nbformat_minor": 2
}
